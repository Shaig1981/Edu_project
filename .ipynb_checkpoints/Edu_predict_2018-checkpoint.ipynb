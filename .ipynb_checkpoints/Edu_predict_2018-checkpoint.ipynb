{
 "cells": [
  {
   "cell_type": "markdown",
   "metadata": {},
   "source": [
    "# 2018 XI year's alumnies university summission prediction due to their IX year final examination results"
   ]
  },
  {
   "cell_type": "markdown",
   "metadata": {},
   "source": [
    "# IX sinif buraxılış imtahanı nəticələri əsasında 2018-ci il XI məzunlarının ali və orta ixtisas məktəblərinə daxil olub-olmamasının proqnozlaşdırılması"
   ]
  },
  {
   "cell_type": "markdown",
   "metadata": {},
   "source": [
    "Azərbaycan ümümtəhsil müəssisələri məzunlarının ali və orta ixtisas əktəblərinə qəbulunun proqnozlaşdırılmasını aparmaq üçün eyni məzunların IX sinif buraxılış imtahanlarında göstərdikləri nəticələr ilk beyin hücumu kimi təsirli data hesab oluna bilər. Bu datanın etibarlı olmasını iki əsas amil aktual edir.\n",
    "1. IX sinif buraxılış imtahanlarının Dövlət İmtahan Mərkəzi tərəfindən (yəni bilavasitə tədris prosesində iştirak etməyən kənar auditor kimi) aparılması\n",
    "2. Şagirdlərin ali təhsil müəssisələrinə hazırlaşması prosesi daha çox X və XI siniflərə təsadüf etdiyinə görə\n",
    "Bu iki əsas faktoru nəzərə alaraq 2016-cı il 48740 şagirdin cinsi, təhsil aldığı bölməsi, buraxılış imtahanında Azərbaycan dili və Riyaziyyat fənləri üzrə aldığı qiymətlər əsasında Ali təhsil müəssisələrinə qəbul balı və qəbul olub olmaması proqnoz ediləcəkdir."
   ]
  },
  {
   "cell_type": "markdown",
   "metadata": {},
   "source": [
    "İlk əvvəl lazımi Python kitabxanalarını yükləyək"
   ]
  },
  {
   "cell_type": "code",
   "execution_count": 1,
   "metadata": {},
   "outputs": [],
   "source": [
    "import pandas as pd\n",
    "import numpy as np\n",
    "import matplotlib.pyplot as plt\n",
    "import seaborn as sns\n",
    "import math\n",
    "%matplotlib inline"
   ]
  },
  {
   "cell_type": "code",
   "execution_count": 2,
   "metadata": {},
   "outputs": [],
   "source": [
    "edu = pd.read_excel(r\"bakalavr2018.xlsx\")"
   ]
  },
  {
   "cell_type": "code",
   "execution_count": 3,
   "metadata": {},
   "outputs": [
    {
     "data": {
      "text/html": [
       "<div>\n",
       "<style scoped>\n",
       "    .dataframe tbody tr th:only-of-type {\n",
       "        vertical-align: middle;\n",
       "    }\n",
       "\n",
       "    .dataframe tbody tr th {\n",
       "        vertical-align: top;\n",
       "    }\n",
       "\n",
       "    .dataframe thead th {\n",
       "        text-align: right;\n",
       "    }\n",
       "</style>\n",
       "<table border=\"1\" class=\"dataframe\">\n",
       "  <thead>\n",
       "    <tr style=\"text-align: right;\">\n",
       "      <th></th>\n",
       "      <th>Finkod</th>\n",
       "      <th>Gender</th>\n",
       "      <th>Sector_Az</th>\n",
       "      <th>Score</th>\n",
       "      <th>Native</th>\n",
       "      <th>Math</th>\n",
       "      <th>Is_Entered</th>\n",
       "    </tr>\n",
       "  </thead>\n",
       "  <tbody>\n",
       "    <tr>\n",
       "      <th>0</th>\n",
       "      <td>1</td>\n",
       "      <td>Male</td>\n",
       "      <td>Aze</td>\n",
       "      <td>56</td>\n",
       "      <td>2</td>\n",
       "      <td>3</td>\n",
       "      <td>No</td>\n",
       "    </tr>\n",
       "    <tr>\n",
       "      <th>1</th>\n",
       "      <td>2</td>\n",
       "      <td>Female</td>\n",
       "      <td>Aze</td>\n",
       "      <td>380</td>\n",
       "      <td>4</td>\n",
       "      <td>4</td>\n",
       "      <td>Yes</td>\n",
       "    </tr>\n",
       "    <tr>\n",
       "      <th>2</th>\n",
       "      <td>3</td>\n",
       "      <td>Male</td>\n",
       "      <td>Aze</td>\n",
       "      <td>87</td>\n",
       "      <td>0</td>\n",
       "      <td>0</td>\n",
       "      <td>Yes</td>\n",
       "    </tr>\n",
       "    <tr>\n",
       "      <th>3</th>\n",
       "      <td>4</td>\n",
       "      <td>Male</td>\n",
       "      <td>Aze</td>\n",
       "      <td>266</td>\n",
       "      <td>2</td>\n",
       "      <td>2</td>\n",
       "      <td>Yes</td>\n",
       "    </tr>\n",
       "    <tr>\n",
       "      <th>4</th>\n",
       "      <td>5</td>\n",
       "      <td>Female</td>\n",
       "      <td>Aze</td>\n",
       "      <td>137</td>\n",
       "      <td>4</td>\n",
       "      <td>3</td>\n",
       "      <td>Yes</td>\n",
       "    </tr>\n",
       "  </tbody>\n",
       "</table>\n",
       "</div>"
      ],
      "text/plain": [
       "   Finkod  Gender Sector_Az  Score  Native  Math Is_Entered\n",
       "0       1    Male       Aze     56       2     3         No\n",
       "1       2  Female       Aze    380       4     4        Yes\n",
       "2       3    Male       Aze     87       0     0        Yes\n",
       "3       4    Male       Aze    266       2     2        Yes\n",
       "4       5  Female       Aze    137       4     3        Yes"
      ]
     },
     "execution_count": 3,
     "metadata": {},
     "output_type": "execute_result"
    }
   ],
   "source": [
    "edu.head()"
   ]
  },
  {
   "cell_type": "code",
   "execution_count": 4,
   "metadata": {},
   "outputs": [
    {
     "name": "stdout",
     "output_type": "stream",
     "text": [
      "<class 'pandas.core.frame.DataFrame'>\n",
      "RangeIndex: 48740 entries, 0 to 48739\n",
      "Data columns (total 7 columns):\n",
      " #   Column      Non-Null Count  Dtype \n",
      "---  ------      --------------  ----- \n",
      " 0   Finkod      48740 non-null  int64 \n",
      " 1   Gender      48740 non-null  object\n",
      " 2   Sector_Az   48740 non-null  object\n",
      " 3   Score       48740 non-null  int64 \n",
      " 4   Native      48740 non-null  int64 \n",
      " 5   Math        48740 non-null  int64 \n",
      " 6   Is_Entered  48740 non-null  object\n",
      "dtypes: int64(4), object(3)\n",
      "memory usage: 2.6+ MB\n"
     ]
    }
   ],
   "source": [
    "edu.info()"
   ]
  },
  {
   "cell_type": "markdown",
   "metadata": {},
   "source": [
    "Yuxarıda data haqqında verilən informasiyadan görünür ki, cins, təhsil bölməsi və ali təhsil müəssisəsinə daxil olub-olmaması sütunları obyektdir. Digər tərəfdən ali təhsil müəssisəsinə qəbul balı, Azərbaycan dili və Rİyaziyyat fənləri üzrə DİM balları ədədlər ifadə olunur."
   ]
  },
  {
   "cell_type": "code",
   "execution_count": 5,
   "metadata": {},
   "outputs": [
    {
     "data": {
      "text/plain": [
       "(48740, 7)"
      ]
     },
     "execution_count": 5,
     "metadata": {},
     "output_type": "execute_result"
    }
   ],
   "source": [
    "edu.shape"
   ]
  },
  {
   "cell_type": "code",
   "execution_count": 6,
   "metadata": {},
   "outputs": [
    {
     "data": {
      "text/html": [
       "<div>\n",
       "<style scoped>\n",
       "    .dataframe tbody tr th:only-of-type {\n",
       "        vertical-align: middle;\n",
       "    }\n",
       "\n",
       "    .dataframe tbody tr th {\n",
       "        vertical-align: top;\n",
       "    }\n",
       "\n",
       "    .dataframe thead th {\n",
       "        text-align: right;\n",
       "    }\n",
       "</style>\n",
       "<table border=\"1\" class=\"dataframe\">\n",
       "  <thead>\n",
       "    <tr style=\"text-align: right;\">\n",
       "      <th></th>\n",
       "      <th>Finkod</th>\n",
       "      <th>Score</th>\n",
       "      <th>Native</th>\n",
       "      <th>Math</th>\n",
       "    </tr>\n",
       "  </thead>\n",
       "  <tbody>\n",
       "    <tr>\n",
       "      <th>count</th>\n",
       "      <td>48740.000000</td>\n",
       "      <td>48740.000000</td>\n",
       "      <td>48740.000000</td>\n",
       "      <td>48740.000000</td>\n",
       "    </tr>\n",
       "    <tr>\n",
       "      <th>mean</th>\n",
       "      <td>24370.500000</td>\n",
       "      <td>288.328396</td>\n",
       "      <td>3.717604</td>\n",
       "      <td>3.845137</td>\n",
       "    </tr>\n",
       "    <tr>\n",
       "      <th>std</th>\n",
       "      <td>14070.170397</td>\n",
       "      <td>189.263377</td>\n",
       "      <td>0.970175</td>\n",
       "      <td>1.037185</td>\n",
       "    </tr>\n",
       "    <tr>\n",
       "      <th>min</th>\n",
       "      <td>1.000000</td>\n",
       "      <td>0.000000</td>\n",
       "      <td>0.000000</td>\n",
       "      <td>0.000000</td>\n",
       "    </tr>\n",
       "    <tr>\n",
       "      <th>25%</th>\n",
       "      <td>12185.750000</td>\n",
       "      <td>136.000000</td>\n",
       "      <td>3.000000</td>\n",
       "      <td>3.000000</td>\n",
       "    </tr>\n",
       "    <tr>\n",
       "      <th>50%</th>\n",
       "      <td>24370.500000</td>\n",
       "      <td>282.000000</td>\n",
       "      <td>4.000000</td>\n",
       "      <td>4.000000</td>\n",
       "    </tr>\n",
       "    <tr>\n",
       "      <th>75%</th>\n",
       "      <td>36555.250000</td>\n",
       "      <td>431.000000</td>\n",
       "      <td>4.000000</td>\n",
       "      <td>5.000000</td>\n",
       "    </tr>\n",
       "    <tr>\n",
       "      <th>max</th>\n",
       "      <td>48740.000000</td>\n",
       "      <td>700.000000</td>\n",
       "      <td>5.000000</td>\n",
       "      <td>5.000000</td>\n",
       "    </tr>\n",
       "  </tbody>\n",
       "</table>\n",
       "</div>"
      ],
      "text/plain": [
       "             Finkod         Score        Native          Math\n",
       "count  48740.000000  48740.000000  48740.000000  48740.000000\n",
       "mean   24370.500000    288.328396      3.717604      3.845137\n",
       "std    14070.170397    189.263377      0.970175      1.037185\n",
       "min        1.000000      0.000000      0.000000      0.000000\n",
       "25%    12185.750000    136.000000      3.000000      3.000000\n",
       "50%    24370.500000    282.000000      4.000000      4.000000\n",
       "75%    36555.250000    431.000000      4.000000      5.000000\n",
       "max    48740.000000    700.000000      5.000000      5.000000"
      ]
     },
     "execution_count": 6,
     "metadata": {},
     "output_type": "execute_result"
    }
   ],
   "source": [
    "edu.describe()"
   ]
  },
  {
   "cell_type": "code",
   "execution_count": 7,
   "metadata": {},
   "outputs": [
    {
     "data": {
      "text/plain": [
       "<matplotlib.axes._subplots.AxesSubplot at 0x21bed2f2640>"
      ]
     },
     "execution_count": 7,
     "metadata": {},
     "output_type": "execute_result"
    },
    {
     "data": {
      "image/png": "[encoded data removed]",
      "text/plain": [
       "<Figure size 720x360 with 1 Axes>"
      ]
     },
     "metadata": {
      "needs_background": "light"
     },
     "output_type": "display_data"
    }
   ],
   "source": [
    "fig = plt.figure(figsize = [10, 5])\n",
    "sns.countplot('Gender',data = edu) # Count Plot of Gender"
   ]
  },
  {
   "cell_type": "code",
   "execution_count": 8,
   "metadata": {},
   "outputs": [
    {
     "data": {
      "text/plain": [
       "<matplotlib.axes._subplots.AxesSubplot at 0x21bebf8d910>"
      ]
     },
     "execution_count": 8,
     "metadata": {},
     "output_type": "execute_result"
    },
    {
     "data": {
      "image/png": "[encoded data removed]",
      "text/plain": [
       "<Figure size 720x360 with 1 Axes>"
      ]
     },
     "metadata": {
      "needs_background": "light"
     },
     "output_type": "display_data"
    }
   ],
   "source": [
    "fig = plt.figure(figsize = [10, 5])\n",
    "sns.boxplot('Gender','Score',data = edu)"
   ]
  },
  {
   "cell_type": "code",
   "execution_count": 9,
   "metadata": {},
   "outputs": [
    {
     "data": {
      "text/plain": [
       "<matplotlib.axes._subplots.AxesSubplot at 0x21becc8ba00>"
      ]
     },
     "execution_count": 9,
     "metadata": {},
     "output_type": "execute_result"
    },
    {
     "data": {
      "image/png": "[encoded data removed]",
      "text/plain": [
       "<Figure size 1008x432 with 2 Axes>"
      ]
     },
     "metadata": {
      "needs_background": "light"
     },
     "output_type": "display_data"
    }
   ],
   "source": [
    "fig = plt.figure(figsize = [14, 6])\n",
    "x1 = fig.add_subplot(1,2,1)\n",
    "sns.kdeplot(edu[edu.Gender == \"Male\"].Score, shade = True)\n",
    "x1 = fig.add_subplot(1,2,2)\n",
    "sns.kdeplot(edu[edu.Gender == \"Female\"].Score, shade = True, color = \"r\")"
   ]
  },
  {
   "cell_type": "code",
   "execution_count": 10,
   "metadata": {},
   "outputs": [
    {
     "data": {
      "text/plain": [
       "<matplotlib.axes._subplots.AxesSubplot at 0x21bec43a0d0>"
      ]
     },
     "execution_count": 10,
     "metadata": {},
     "output_type": "execute_result"
    },
    {
     "data": {
      "image/png": "[encoded data removed]",
      "text/plain": [
       "<Figure size 1008x432 with 2 Axes>"
      ]
     },
     "metadata": {
      "needs_background": "light"
     },
     "output_type": "display_data"
    }
   ],
   "source": [
    "fig = plt.figure(figsize = [14, 6])\n",
    "x1 = fig.add_subplot(1,2,1)\n",
    "sns.distplot(edu[edu.Gender == \"Male\"].Score, bins = 30, color = \"g\")\n",
    "x1 = fig.add_subplot(1,2,2)\n",
    "sns.distplot(edu[edu.Gender == \"Female\"].Score, bins = 30, color = \"m\")"
   ]
  },
  {
   "cell_type": "code",
   "execution_count": 11,
   "metadata": {},
   "outputs": [
    {
     "data": {
      "text/plain": [
       "<matplotlib.axes._subplots.AxesSubplot at 0x21becb8f070>"
      ]
     },
     "execution_count": 11,
     "metadata": {},
     "output_type": "execute_result"
    },
    {
     "data": {
      "image/png": "[encoded data removed]",
      "text/plain": [
       "<Figure size 720x360 with 1 Axes>"
      ]
     },
     "metadata": {
      "needs_background": "light"
     },
     "output_type": "display_data"
    }
   ],
   "source": [
    "fig = plt.figure(figsize = [10, 5])\n",
    "sns.distplot(edu['Score'], bins = 30, norm_hist=True, color = \"green\")"
   ]
  },
  {
   "cell_type": "markdown",
   "metadata": {},
   "source": [
    "Dataframe-də verilən obyekt kimi ifadə olunan göstəricilər sözlərlə ifadə olunduğuna görə onları analizimizdə istifadə etmək mümkün olmur. Buna görə də onları da ölçülə bilən kateqorik dəyişənlərə çevirmək lazım olacaq. Bunun üçün müvafiq Python kitabxanasından istifadə edərək dəyişənlərin qiymətini ölçülə bilən hala gətirək."
   ]
  },
  {
   "cell_type": "code",
   "execution_count": 12,
   "metadata": {},
   "outputs": [],
   "source": [
    "edu = edu.drop(\"Finkod\", axis = 1)"
   ]
  },
  {
   "cell_type": "code",
   "execution_count": 13,
   "metadata": {},
   "outputs": [],
   "source": [
    "education = pd.get_dummies(edu, drop_first=True)"
   ]
  },
  {
   "cell_type": "code",
   "execution_count": 14,
   "metadata": {},
   "outputs": [
    {
     "data": {
      "text/html": [
       "<div>\n",
       "<style scoped>\n",
       "    .dataframe tbody tr th:only-of-type {\n",
       "        vertical-align: middle;\n",
       "    }\n",
       "\n",
       "    .dataframe tbody tr th {\n",
       "        vertical-align: top;\n",
       "    }\n",
       "\n",
       "    .dataframe thead th {\n",
       "        text-align: right;\n",
       "    }\n",
       "</style>\n",
       "<table border=\"1\" class=\"dataframe\">\n",
       "  <thead>\n",
       "    <tr style=\"text-align: right;\">\n",
       "      <th></th>\n",
       "      <th>Score</th>\n",
       "      <th>Native</th>\n",
       "      <th>Math</th>\n",
       "      <th>Gender_Male</th>\n",
       "      <th>Sector_Az_Rus</th>\n",
       "      <th>Is_Entered_Yes</th>\n",
       "    </tr>\n",
       "  </thead>\n",
       "  <tbody>\n",
       "    <tr>\n",
       "      <th>0</th>\n",
       "      <td>56</td>\n",
       "      <td>2</td>\n",
       "      <td>3</td>\n",
       "      <td>1</td>\n",
       "      <td>0</td>\n",
       "      <td>0</td>\n",
       "    </tr>\n",
       "    <tr>\n",
       "      <th>1</th>\n",
       "      <td>380</td>\n",
       "      <td>4</td>\n",
       "      <td>4</td>\n",
       "      <td>0</td>\n",
       "      <td>0</td>\n",
       "      <td>1</td>\n",
       "    </tr>\n",
       "    <tr>\n",
       "      <th>2</th>\n",
       "      <td>87</td>\n",
       "      <td>0</td>\n",
       "      <td>0</td>\n",
       "      <td>1</td>\n",
       "      <td>0</td>\n",
       "      <td>1</td>\n",
       "    </tr>\n",
       "    <tr>\n",
       "      <th>3</th>\n",
       "      <td>266</td>\n",
       "      <td>2</td>\n",
       "      <td>2</td>\n",
       "      <td>1</td>\n",
       "      <td>0</td>\n",
       "      <td>1</td>\n",
       "    </tr>\n",
       "    <tr>\n",
       "      <th>4</th>\n",
       "      <td>137</td>\n",
       "      <td>4</td>\n",
       "      <td>3</td>\n",
       "      <td>0</td>\n",
       "      <td>0</td>\n",
       "      <td>1</td>\n",
       "    </tr>\n",
       "  </tbody>\n",
       "</table>\n",
       "</div>"
      ],
      "text/plain": [
       "   Score  Native  Math  Gender_Male  Sector_Az_Rus  Is_Entered_Yes\n",
       "0     56       2     3            1              0               0\n",
       "1    380       4     4            0              0               1\n",
       "2     87       0     0            1              0               1\n",
       "3    266       2     2            1              0               1\n",
       "4    137       4     3            0              0               1"
      ]
     },
     "execution_count": 14,
     "metadata": {},
     "output_type": "execute_result"
    }
   ],
   "source": [
    "education.head()"
   ]
  },
  {
   "cell_type": "markdown",
   "metadata": {},
   "source": [
    "As we can see from the table above that Native, Math, Gender_Male, Sector_Az_Rus variables are measured around 5 but Score is up to 700. If we leave these variables unchanged then Score variable will affect our prediction model much more than other explainatory variables. Therefore we should scale all the variables to make them equally measurable."
   ]
  },
  {
   "cell_type": "code",
   "execution_count": 15,
   "metadata": {},
   "outputs": [],
   "source": [
    "import warnings\n",
    "warnings.filterwarnings(\"ignore\")\n",
    "# Extract the columns we'll use for our data\n",
    "x = education.iloc[:, 1:5].values \n",
    "y = education.iloc[:, 5].values\n",
    "\n",
    "from sklearn.preprocessing import StandardScaler\n",
    "scaler = StandardScaler().fit(x) \n",
    "x = scaler.transform(x)\n",
    "\n",
    "# Split data into our test and training datasets\n",
    "from sklearn.model_selection import train_test_split\n",
    "\n",
    "X_train, X_test, y_train, y_test = train_test_split(x, y, test_size=0.3, random_state=0)"
   ]
  },
  {
   "cell_type": "code",
   "execution_count": 16,
   "metadata": {},
   "outputs": [
    {
     "data": {
      "image/png": "[encoded data removed]",
      "text/plain": [
       "<Figure size 864x576 with 2 Axes>"
      ]
     },
     "metadata": {
      "needs_background": "light"
     },
     "output_type": "display_data"
    }
   ],
   "source": [
    "f,ax=plt.subplots(figsize = (12,8))\n",
    "sns.heatmap(edu.corr(),annot= True,linewidths=0.5,fmt = \".2f\")\n",
    "plt.xticks(rotation=45)\n",
    "plt.yticks(rotation=0)\n",
    "plt.title('Correlation Show Map')\n",
    "#plt.savefig('correllation_graph.png')\n",
    "plt.show()"
   ]
  },
  {
   "cell_type": "raw",
   "metadata": {},
   "source": [
    "Now our data is ready for model selection. For prediction let's import suitable libraries"
   ]
  },
  {
   "cell_type": "code",
   "execution_count": 17,
   "metadata": {},
   "outputs": [],
   "source": [
    "# Import our model and performance assessement classes from sklearn\n",
    "\n",
    "from sklearn.linear_model import LogisticRegression\n",
    "from sklearn.tree import DecisionTreeClassifier\n",
    "from sklearn.svm import SVC\n",
    "from sklearn.neighbors import KNeighborsClassifier\n",
    "\n",
    "from sklearn.metrics import classification_report\n",
    "from sklearn.metrics import confusion_matrix\n",
    "from sklearn.metrics import accuracy_score"
   ]
  },
  {
   "cell_type": "markdown",
   "metadata": {},
   "source": [
    "# Logistic Regression"
   ]
  },
  {
   "cell_type": "code",
   "execution_count": 18,
   "metadata": {},
   "outputs": [
    {
     "name": "stdout",
     "output_type": "stream",
     "text": [
      "Accuracy 83.26%\n",
      "[[ 1145   467]\n",
      " [ 1981 11029]]\n",
      "              precision    recall  f1-score   support\n",
      "\n",
      "           0       0.37      0.71      0.48      1612\n",
      "           1       0.96      0.85      0.90     13010\n",
      "\n",
      "    accuracy                           0.83     14622\n",
      "   macro avg       0.66      0.78      0.69     14622\n",
      "weighted avg       0.89      0.83      0.85     14622\n",
      "\n"
     ]
    }
   ],
   "source": [
    "# Fit (train) the Logistic Regression classifier\n",
    "logreg_clf = LogisticRegression()\n",
    "logreg_model = logreg_clf.fit(X_train, y_train)\n",
    "logreg_prediction = logreg_clf.predict(X_test)\n",
    "\n",
    "print(\"Accuracy {0:.2f}%\".format(100*accuracy_score(logreg_prediction, y_test)))\n",
    "log_accuracy = 100*accuracy_score(logreg_prediction, y_test)\n",
    "\n",
    "# Display the Confusion Matrix and Classification Report \n",
    "print(confusion_matrix(logreg_prediction, y_test))\n",
    "print(classification_report(logreg_prediction, y_test))"
   ]
  },
  {
   "cell_type": "markdown",
   "metadata": {},
   "source": [
    "# KNN Classifier Performance"
   ]
  },
  {
   "cell_type": "code",
   "execution_count": 19,
   "metadata": {},
   "outputs": [
    {
     "name": "stdout",
     "output_type": "stream",
     "text": [
      "Accuracy 79.56%\n",
      "[[2049 1912]\n",
      " [1077 9584]]\n",
      "              precision    recall  f1-score   support\n",
      "\n",
      "           0       0.66      0.52      0.58      3961\n",
      "           1       0.83      0.90      0.87     10661\n",
      "\n",
      "    accuracy                           0.80     14622\n",
      "   macro avg       0.74      0.71      0.72     14622\n",
      "weighted avg       0.79      0.80      0.79     14622\n",
      "\n"
     ]
    }
   ],
   "source": [
    "# Fit (train) the KNN classifier\n",
    "knn_clf = KNeighborsClassifier()\n",
    "knn_model = knn_clf.fit(X_train, y_train)\n",
    "knn_prediction = knn_clf.predict(X_test)\n",
    "\n",
    "print(\"Accuracy {0:.2f}%\".format(100*accuracy_score(knn_prediction, y_test)))\n",
    "knn_accuracy = 100*accuracy_score(knn_prediction, y_test)\n",
    "\n",
    "# Display the Confusion Matrix and Classification Report \n",
    "print(confusion_matrix(knn_prediction, y_test))\n",
    "print(classification_report(knn_prediction, y_test))"
   ]
  },
  {
   "cell_type": "markdown",
   "metadata": {},
   "source": [
    "# Decision Tree Classifier"
   ]
  },
  {
   "cell_type": "code",
   "execution_count": 20,
   "metadata": {},
   "outputs": [
    {
     "name": "stdout",
     "output_type": "stream",
     "text": [
      "Accuracy: 0.835795376829435\n"
     ]
    }
   ],
   "source": [
    "# Create Decision Tree classifer object\n",
    "decision_clf = DecisionTreeClassifier()\n",
    "\n",
    "# Train Decision Tree Classifer\n",
    "decision_clf = decision_clf.fit(X_train,y_train)\n",
    "\n",
    "#Predict the response for test dataset\n",
    "y_pred = decision_clf.predict(X_test)\n",
    "\n",
    "print(\"Accuracy:\",accuracy_score(y_test, y_pred))"
   ]
  },
  {
   "cell_type": "code",
   "execution_count": 21,
   "metadata": {},
   "outputs": [
    {
     "name": "stdout",
     "output_type": "stream",
     "text": [
      "Accuracy 83.58%\n"
     ]
    }
   ],
   "source": [
    "# Create Decision Tree classifer object\n",
    "clf = DecisionTreeClassifier(criterion=\"entropy\")\n",
    "\n",
    "# Train Decision Tree Classifer\n",
    "clf = clf.fit(X_train,y_train)\n",
    "\n",
    "#Predict the response for test dataset\n",
    "y_pred = clf.predict(X_test)\n",
    "\n",
    "# Model Accuracy, how often is the classifier correct?\n",
    "print(\"Accuracy {0:.2f}%\".format(100*accuracy_score(y_test, y_pred)))\n",
    "decision_accuracy = 100*accuracy_score(y_test, y_pred)"
   ]
  },
  {
   "cell_type": "markdown",
   "metadata": {},
   "source": [
    "# Support Vector Machine Performance"
   ]
  },
  {
   "cell_type": "code",
   "execution_count": 22,
   "metadata": {},
   "outputs": [
    {
     "name": "stdout",
     "output_type": "stream",
     "text": [
      "Accuracy 83.44%\n",
      "[[ 1112   407]\n",
      " [ 2014 11089]]\n"
     ]
    }
   ],
   "source": [
    "# Fit (train) the Support Vector Machine classifier\n",
    "svm_clf = SVC()\n",
    "svm_model = svm_clf.fit(X_train, y_train)\n",
    "svm_prediction = svm_clf.predict(X_test)\n",
    "\n",
    "print(\"Accuracy {0:.2f}%\".format(100*accuracy_score(svm_prediction, y_test)))\n",
    "svm_accuracy = 100*accuracy_score(svm_prediction, y_test)\n",
    "\n",
    "# Display the Confusion Matrix and Classification Report \n",
    "print(confusion_matrix(svm_prediction, y_test))"
   ]
  },
  {
   "cell_type": "code",
   "execution_count": 23,
   "metadata": {},
   "outputs": [
    {
     "data": {
      "text/html": [
       "<div>\n",
       "<style scoped>\n",
       "    .dataframe tbody tr th:only-of-type {\n",
       "        vertical-align: middle;\n",
       "    }\n",
       "\n",
       "    .dataframe tbody tr th {\n",
       "        vertical-align: top;\n",
       "    }\n",
       "\n",
       "    .dataframe thead th {\n",
       "        text-align: right;\n",
       "    }\n",
       "</style>\n",
       "<table border=\"1\" class=\"dataframe\">\n",
       "  <thead>\n",
       "    <tr style=\"text-align: right;\">\n",
       "      <th></th>\n",
       "      <th>Log_regression</th>\n",
       "      <th>KNN_Classification</th>\n",
       "      <th>Decision_T</th>\n",
       "      <th>Support Vector</th>\n",
       "    </tr>\n",
       "  </thead>\n",
       "  <tbody>\n",
       "    <tr>\n",
       "      <th>0</th>\n",
       "      <td>83.258104</td>\n",
       "      <td>79.5582</td>\n",
       "      <td>83.579538</td>\n",
       "      <td>83.442757</td>\n",
       "    </tr>\n",
       "  </tbody>\n",
       "</table>\n",
       "</div>"
      ],
      "text/plain": [
       "   Log_regression  KNN_Classification  Decision_T  Support Vector\n",
       "0       83.258104             79.5582   83.579538       83.442757"
      ]
     },
     "execution_count": 23,
     "metadata": {},
     "output_type": "execute_result"
    }
   ],
   "source": [
    "Model_accuracies = {'Log_regression':[log_accuracy],\n",
    "       'KNN_Classification':[knn_accuracy],\n",
    "       'Decision_T':[decision_accuracy],\n",
    "       'Support Vector':[svm_accuracy]}\n",
    "Accuracies = pd.DataFrame(Model_accuracies)\n",
    "Accuracies"
   ]
  },
  {
   "cell_type": "code",
   "execution_count": null,
   "metadata": {},
   "outputs": [],
   "source": []
  }
 ],
 "metadata": {
  "kernelspec": {
   "display_name": "Python 3",
   "language": "python",
   "name": "python3"
  },
  "language_info": {
   "codemirror_mode": {
    "name": "ipython",
    "version": 3
   },
   "file_extension": ".py",
   "mimetype": "text/x-python",
   "name": "python",
   "nbconvert_exporter": "python",
   "pygments_lexer": "ipython3",
   "version": "3.8.3"
  }
 },
 "nbformat": 4,
 "nbformat_minor": 4
}
